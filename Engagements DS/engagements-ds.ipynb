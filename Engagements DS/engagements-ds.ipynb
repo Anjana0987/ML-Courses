{
 "cells": [
  {
   "cell_type": "code",
   "execution_count": 1,
   "metadata": {},
   "outputs": [],
   "source": [
    "import pandas as pd\n",
    "import numpy as np\n",
    "import plotly.express as px\n",
    "import matplotlib.pyplot as plt\n",
    "import datetime\n",
    "\n",
    "#anomaly detection\n",
    "from adtk.data import validate_series\n",
    "from adtk.visualization import plot\n",
    "from adtk.detector import QuantileAD"
   ]
  },
  {
   "cell_type": "code",
   "execution_count": 2,
   "metadata": {},
   "outputs": [],
   "source": [
    "data = pd.read_csv('Data/Engagements - ds_exercise.csv')"
   ]
  },
  {
   "cell_type": "code",
   "execution_count": 3,
   "metadata": {},
   "outputs": [
    {
     "data": {
      "text/html": [
       "<div>\n",
       "<style scoped>\n",
       "    .dataframe tbody tr th:only-of-type {\n",
       "        vertical-align: middle;\n",
       "    }\n",
       "\n",
       "    .dataframe tbody tr th {\n",
       "        vertical-align: top;\n",
       "    }\n",
       "\n",
       "    .dataframe thead th {\n",
       "        text-align: right;\n",
       "    }\n",
       "</style>\n",
       "<table border=\"1\" class=\"dataframe\">\n",
       "  <thead>\n",
       "    <tr style=\"text-align: right;\">\n",
       "      <th></th>\n",
       "      <th>member_id</th>\n",
       "      <th>member_program_id</th>\n",
       "      <th>time_spent</th>\n",
       "      <th>service_date</th>\n",
       "      <th>care_extender_id</th>\n",
       "      <th>program_id</th>\n",
       "    </tr>\n",
       "  </thead>\n",
       "  <tbody>\n",
       "    <tr>\n",
       "      <th>0</th>\n",
       "      <td>20220</td>\n",
       "      <td>20767</td>\n",
       "      <td>1.0</td>\n",
       "      <td>2020-01-01</td>\n",
       "      <td>88</td>\n",
       "      <td>29</td>\n",
       "    </tr>\n",
       "    <tr>\n",
       "      <th>1</th>\n",
       "      <td>20298</td>\n",
       "      <td>20854</td>\n",
       "      <td>10.0</td>\n",
       "      <td>2020-01-01</td>\n",
       "      <td>25</td>\n",
       "      <td>29</td>\n",
       "    </tr>\n",
       "    <tr>\n",
       "      <th>2</th>\n",
       "      <td>19981</td>\n",
       "      <td>20528</td>\n",
       "      <td>1.0</td>\n",
       "      <td>2020-01-01</td>\n",
       "      <td>88</td>\n",
       "      <td>29</td>\n",
       "    </tr>\n",
       "    <tr>\n",
       "      <th>3</th>\n",
       "      <td>19542</td>\n",
       "      <td>20033</td>\n",
       "      <td>1.0</td>\n",
       "      <td>2020-01-01</td>\n",
       "      <td>49</td>\n",
       "      <td>79</td>\n",
       "    </tr>\n",
       "    <tr>\n",
       "      <th>4</th>\n",
       "      <td>15999</td>\n",
       "      <td>16484</td>\n",
       "      <td>10.0</td>\n",
       "      <td>2020-01-01</td>\n",
       "      <td>126</td>\n",
       "      <td>10</td>\n",
       "    </tr>\n",
       "  </tbody>\n",
       "</table>\n",
       "</div>"
      ],
      "text/plain": [
       "   member_id  member_program_id  time_spent service_date  care_extender_id  \\\n",
       "0      20220              20767         1.0   2020-01-01                88   \n",
       "1      20298              20854        10.0   2020-01-01                25   \n",
       "2      19981              20528         1.0   2020-01-01                88   \n",
       "3      19542              20033         1.0   2020-01-01                49   \n",
       "4      15999              16484        10.0   2020-01-01               126   \n",
       "\n",
       "   program_id  \n",
       "0          29  \n",
       "1          29  \n",
       "2          29  \n",
       "3          79  \n",
       "4          10  "
      ]
     },
     "execution_count": 3,
     "metadata": {},
     "output_type": "execute_result"
    }
   ],
   "source": [
    "data.head()"
   ]
  },
  {
   "cell_type": "code",
   "execution_count": 4,
   "metadata": {},
   "outputs": [
    {
     "name": "stdout",
     "output_type": "stream",
     "text": [
      "The start date is 2020-01-01\n",
      "The end date is 2020-06-26\n"
     ]
    }
   ],
   "source": [
    "print(\"The start date is {}\".format(data['service_date'].min()))\n",
    "print(\"The end date is {}\".format(data['service_date'].max()))"
   ]
  },
  {
   "cell_type": "code",
   "execution_count": 5,
   "metadata": {},
   "outputs": [],
   "source": [
    "# Assigning a new column that denotes the week no.\n",
    "data['service_time'] = pd.to_datetime(data['service_date'], format='%Y-%m-%d')\n",
    "data['week_no'] = data['service_time'].dt.week"
   ]
  },
  {
   "cell_type": "markdown",
   "metadata": {},
   "source": [
    "## Dividing the data into three groups based on \"time spent\""
   ]
  },
  {
   "cell_type": "code",
   "execution_count": 6,
   "metadata": {},
   "outputs": [
    {
     "data": {
      "text/html": [
       "<div>\n",
       "<style scoped>\n",
       "    .dataframe tbody tr th:only-of-type {\n",
       "        vertical-align: middle;\n",
       "    }\n",
       "\n",
       "    .dataframe tbody tr th {\n",
       "        vertical-align: top;\n",
       "    }\n",
       "\n",
       "    .dataframe thead th {\n",
       "        text-align: right;\n",
       "    }\n",
       "</style>\n",
       "<table border=\"1\" class=\"dataframe\">\n",
       "  <thead>\n",
       "    <tr style=\"text-align: right;\">\n",
       "      <th></th>\n",
       "      <th>member_id</th>\n",
       "      <th>time_spent</th>\n",
       "    </tr>\n",
       "  </thead>\n",
       "  <tbody>\n",
       "    <tr>\n",
       "      <th>8949</th>\n",
       "      <td>19981</td>\n",
       "      <td>6989.0</td>\n",
       "    </tr>\n",
       "    <tr>\n",
       "      <th>8948</th>\n",
       "      <td>19979</td>\n",
       "      <td>3614.0</td>\n",
       "    </tr>\n",
       "    <tr>\n",
       "      <th>7110</th>\n",
       "      <td>16707</td>\n",
       "      <td>3270.0</td>\n",
       "    </tr>\n",
       "    <tr>\n",
       "      <th>6839</th>\n",
       "      <td>16411</td>\n",
       "      <td>2920.0</td>\n",
       "    </tr>\n",
       "    <tr>\n",
       "      <th>9416</th>\n",
       "      <td>20816</td>\n",
       "      <td>2530.0</td>\n",
       "    </tr>\n",
       "  </tbody>\n",
       "</table>\n",
       "</div>"
      ],
      "text/plain": [
       "      member_id  time_spent\n",
       "8949      19981      6989.0\n",
       "8948      19979      3614.0\n",
       "7110      16707      3270.0\n",
       "6839      16411      2920.0\n",
       "9416      20816      2530.0"
      ]
     },
     "execution_count": 6,
     "metadata": {},
     "output_type": "execute_result"
    }
   ],
   "source": [
    "# Groupby time spent on the whole data per each member\n",
    "member_wise = data.groupby('member_id')['time_spent'].agg('sum').reset_index().sort_values('time_spent', ascending=False)\n",
    "member_wise.head()"
   ]
  },
  {
   "cell_type": "markdown",
   "metadata": {},
   "source": [
    "I have used pd.qcut to create groups. **qcut** tries to split the underlying data into bins of equal size.\n",
    "The method determines the bins by using percentiles based on the data distribution, not the bins' actual numeric edges. However, the bins created for this particular data do not seem to of the same size and my assumption is that due to repeated values, bin sizes are not equal."
   ]
  },
  {
   "cell_type": "code",
   "execution_count": 7,
   "metadata": {},
   "outputs": [
    {
     "data": {
      "text/plain": [
       "count    14063.000000\n",
       "mean       124.698784\n",
       "std        200.828716\n",
       "min          0.000000\n",
       "25%         16.000000\n",
       "50%         50.000000\n",
       "75%        150.000000\n",
       "max       6989.000000\n",
       "Name: time_spent, dtype: float64"
      ]
     },
     "execution_count": 7,
     "metadata": {},
     "output_type": "execute_result"
    }
   ],
   "source": [
    "member_wise['time_spent'].describe()"
   ]
  },
  {
   "cell_type": "code",
   "execution_count": 8,
   "metadata": {},
   "outputs": [],
   "source": [
    "member_wise['group'] = pd.qcut(member_wise['time_spent'], 3, labels=[0, 1, 2]) "
   ]
  },
  {
   "cell_type": "code",
   "execution_count": 9,
   "metadata": {},
   "outputs": [
    {
     "name": "stdout",
     "output_type": "stream",
     "text": [
      "Average, Mininum, and Maximum time spent by members that are in group 0: 11.44 mins, 0.0 mins, 22.0 mins\n",
      "Average, Mininum, and Maximum time spent by members that are in group 1: 56.18 mins, 23.0 mins, 105.0 mins\n",
      "Average, Mininum, and Maximum time spent by members that are in group 2: 309.18 mins, 106.0 mins, 6989.0 mins\n"
     ]
    }
   ],
   "source": [
    "print(\"Average, Mininum, and Maximum time spent by members that are in group 0: {} mins, {} mins, {} mins\".format(round(member_wise[member_wise['group'] == 0]['time_spent'].mean(), 2), \n",
    "                                                                                                  member_wise[member_wise['group'] == 0]['time_spent'].min(), \n",
    "                                                                                                  member_wise[member_wise['group']==0]['time_spent'].max()))\n",
    "\n",
    "print(\"Average, Mininum, and Maximum time spent by members that are in group 1: {} mins, {} mins, {} mins\".format(round(member_wise[member_wise['group'] == 1]['time_spent'].mean(), 2), \n",
    "                                                                                                  member_wise[member_wise['group'] == 1]['time_spent'].min(), \n",
    "                                                                                                  member_wise[member_wise['group']==1]['time_spent'].max()))\n",
    "\n",
    "print(\"Average, Mininum, and Maximum time spent by members that are in group 2: {} mins, {} mins, {} mins\".format(round(member_wise[member_wise['group'] == 2]['time_spent'].mean(), 2), \n",
    "                                                                                                  member_wise[member_wise['group'] == 2]['time_spent'].min(), \n",
    "                                                                                                  member_wise[member_wise['group']==2]['time_spent'].max()))\n"
   ]
  },
  {
   "cell_type": "markdown",
   "metadata": {},
   "source": [
    "## Any anomalies?"
   ]
  },
  {
   "cell_type": "markdown",
   "metadata": {},
   "source": [
    "### Type 1 - Out of behaviour"
   ]
  },
  {
   "cell_type": "markdown",
   "metadata": {},
   "source": [
    "To detect anomaly time points when time spent is above 95% percentile or below 1% percentile."
   ]
  },
  {
   "cell_type": "code",
   "execution_count": 10,
   "metadata": {},
   "outputs": [],
   "source": [
    "def analyze_member(member_id):\n",
    "    member_data = data[data['member_id'] == member_id][['service_date', 'time_spent']]\n",
    "    member_data['service_date'] = pd.to_datetime(member_data['service_date'], format='%Y-%m-%d')\n",
    "    member_data.set_index('service_date', inplace = True)\n",
    "    \n",
    "    s = validate_series(member_data)\n",
    "    \n",
    "    quantile_ad = QuantileAD(high=0.95, low=0.01)\n",
    "    anomalies = quantile_ad.fit_detect(s)\n",
    "    \n",
    "    plot(s, anomaly=anomalies, ts_linewidth=1, ts_markersize=3, anomaly_markersize=5, anomaly_color='red', anomaly_tag=\"marker\")"
   ]
  },
  {
   "cell_type": "code",
   "execution_count": 11,
   "metadata": {},
   "outputs": [
    {
     "data": {
      "image/png": "[encoded data removed]",
      "text/plain": [
       "<Figure size 1152x288 with 1 Axes>"
      ]
     },
     "metadata": {},
     "output_type": "display_data"
    }
   ],
   "source": [
    "#Can be used to analyze any member\n",
    "analyze_member(19979)"
   ]
  },
  {
   "cell_type": "code",
   "execution_count": 12,
   "metadata": {},
   "outputs": [],
   "source": [
    "def analyze_care_extender(care_extender_id):\n",
    "    care_data = data[data['care_extender_id'] == care_extender_id][['service_date', 'time_spent']]\n",
    "    care_data['service_date'] = pd.to_datetime(care_data['service_date'], format='%Y-%m-%d')\n",
    "    care_data.set_index('service_date', inplace = True)\n",
    "    \n",
    "    s = validate_series(care_data)\n",
    "    \n",
    "    quantile_ad = QuantileAD(high=0.95, low=0.01)\n",
    "    anomalies = quantile_ad.fit_detect(s)\n",
    "    \n",
    "    plot(s, anomaly=anomalies, ts_linewidth=1, ts_markersize=3, anomaly_markersize=5, anomaly_color='red', anomaly_tag=\"marker\")\n",
    "    "
   ]
  },
  {
   "cell_type": "code",
   "execution_count": 13,
   "metadata": {},
   "outputs": [
    {
     "data": {
      "image/png": "[encoded data removed]",
      "text/plain": [
       "<Figure size 1152x288 with 1 Axes>"
      ]
     },
     "metadata": {},
     "output_type": "display_data"
    }
   ],
   "source": [
    "# Can be used to analyze any care extender\n",
    "analyze_care_extender(88)"
   ]
  },
  {
   "cell_type": "markdown",
   "metadata": {},
   "source": [
    "### Type 2a - Average time spent by each member per week"
   ]
  },
  {
   "cell_type": "markdown",
   "metadata": {},
   "source": [
    "Here I have sorted the data weekly and got the average time spent by each member per week. Then I created a function that takes member id as input and counts the how many times they have spent same number of mins for the given 26 weeks. This function returns the member id and the counts of their average time as a list. I computed the total number of weeks they have had same mins average for by taking the max of counts. So, I kind of just assumed that anyone who has had same average mins for more than 10 weeks is like a \"red flag\"."
   ]
  },
  {
   "cell_type": "code",
   "execution_count": 14,
   "metadata": {},
   "outputs": [
    {
     "name": "stdout",
     "output_type": "stream",
     "text": [
      "Total number of entries weekly: 82978\n"
     ]
    },
    {
     "data": {
      "text/html": [
       "<div>\n",
       "<style scoped>\n",
       "    .dataframe tbody tr th:only-of-type {\n",
       "        vertical-align: middle;\n",
       "    }\n",
       "\n",
       "    .dataframe tbody tr th {\n",
       "        vertical-align: top;\n",
       "    }\n",
       "\n",
       "    .dataframe thead th {\n",
       "        text-align: right;\n",
       "    }\n",
       "</style>\n",
       "<table border=\"1\" class=\"dataframe\">\n",
       "  <thead>\n",
       "    <tr style=\"text-align: right;\">\n",
       "      <th></th>\n",
       "      <th>member_id</th>\n",
       "      <th>week_no</th>\n",
       "      <th>time_spent</th>\n",
       "    </tr>\n",
       "  </thead>\n",
       "  <tbody>\n",
       "    <tr>\n",
       "      <th>59585</th>\n",
       "      <td>19979</td>\n",
       "      <td>15</td>\n",
       "      <td>270.0</td>\n",
       "    </tr>\n",
       "    <tr>\n",
       "      <th>59886</th>\n",
       "      <td>20092</td>\n",
       "      <td>11</td>\n",
       "      <td>262.5</td>\n",
       "    </tr>\n",
       "    <tr>\n",
       "      <th>59578</th>\n",
       "      <td>19979</td>\n",
       "      <td>6</td>\n",
       "      <td>240.0</td>\n",
       "    </tr>\n",
       "    <tr>\n",
       "      <th>59577</th>\n",
       "      <td>19979</td>\n",
       "      <td>3</td>\n",
       "      <td>240.0</td>\n",
       "    </tr>\n",
       "    <tr>\n",
       "      <th>59581</th>\n",
       "      <td>19979</td>\n",
       "      <td>10</td>\n",
       "      <td>240.0</td>\n",
       "    </tr>\n",
       "  </tbody>\n",
       "</table>\n",
       "</div>"
      ],
      "text/plain": [
       "       member_id  week_no  time_spent\n",
       "59585      19979       15       270.0\n",
       "59886      20092       11       262.5\n",
       "59578      19979        6       240.0\n",
       "59577      19979        3       240.0\n",
       "59581      19979       10       240.0"
      ]
     },
     "execution_count": 14,
     "metadata": {},
     "output_type": "execute_result"
    }
   ],
   "source": [
    "average_per_week = data.groupby(['member_id', 'week_no'])['time_spent'].mean().reset_index().sort_values('time_spent', ascending = False)\n",
    "print(\"Total number of entries weekly: {}\".format(len(average_per_week)))\n",
    "average_per_week.head()"
   ]
  },
  {
   "cell_type": "code",
   "execution_count": 15,
   "metadata": {},
   "outputs": [],
   "source": [
    "def weekly_anomaly(member_id):\n",
    "    member_data = average_per_week[average_per_week['member_id'] == member_id]\n",
    "    counts = list(member_data['time_spent'].value_counts())\n",
    "    return [member_id, counts]"
   ]
  },
  {
   "cell_type": "code",
   "execution_count": 16,
   "metadata": {},
   "outputs": [],
   "source": [
    "ids = average_per_week['member_id'].apply(lambda x: weekly_anomaly(x))"
   ]
  },
  {
   "cell_type": "code",
   "execution_count": 17,
   "metadata": {},
   "outputs": [
    {
     "name": "stdout",
     "output_type": "stream",
     "text": [
      "The first value of the column is the member id and the second value which is the list has the counts of their average week\n"
     ]
    },
    {
     "data": {
      "text/html": [
       "<div>\n",
       "<style scoped>\n",
       "    .dataframe tbody tr th:only-of-type {\n",
       "        vertical-align: middle;\n",
       "    }\n",
       "\n",
       "    .dataframe tbody tr th {\n",
       "        vertical-align: top;\n",
       "    }\n",
       "\n",
       "    .dataframe thead th {\n",
       "        text-align: right;\n",
       "    }\n",
       "</style>\n",
       "<table border=\"1\" class=\"dataframe\">\n",
       "  <thead>\n",
       "    <tr style=\"text-align: right;\">\n",
       "      <th></th>\n",
       "      <th>member_id</th>\n",
       "    </tr>\n",
       "  </thead>\n",
       "  <tbody>\n",
       "    <tr>\n",
       "      <th>59585</th>\n",
       "      <td>[19979, [4, 4, 4, 2, 2, 1, 1, 1, 1, 1]]</td>\n",
       "    </tr>\n",
       "    <tr>\n",
       "      <th>59886</th>\n",
       "      <td>[20092, [3, 1, 1]]</td>\n",
       "    </tr>\n",
       "    <tr>\n",
       "      <th>59578</th>\n",
       "      <td>[19979, [4, 4, 4, 2, 2, 1, 1, 1, 1, 1]]</td>\n",
       "    </tr>\n",
       "    <tr>\n",
       "      <th>59577</th>\n",
       "      <td>[19979, [4, 4, 4, 2, 2, 1, 1, 1, 1, 1]]</td>\n",
       "    </tr>\n",
       "    <tr>\n",
       "      <th>59581</th>\n",
       "      <td>[19979, [4, 4, 4, 2, 2, 1, 1, 1, 1, 1]]</td>\n",
       "    </tr>\n",
       "  </tbody>\n",
       "</table>\n",
       "</div>"
      ],
      "text/plain": [
       "                                     member_id\n",
       "59585  [19979, [4, 4, 4, 2, 2, 1, 1, 1, 1, 1]]\n",
       "59886                       [20092, [3, 1, 1]]\n",
       "59578  [19979, [4, 4, 4, 2, 2, 1, 1, 1, 1, 1]]\n",
       "59577  [19979, [4, 4, 4, 2, 2, 1, 1, 1, 1, 1]]\n",
       "59581  [19979, [4, 4, 4, 2, 2, 1, 1, 1, 1, 1]]"
      ]
     },
     "execution_count": 17,
     "metadata": {},
     "output_type": "execute_result"
    }
   ],
   "source": [
    "print(\"The first value of the column is the member id and the second value which is the list has the counts of their average week\")\n",
    "s = ids.to_frame()\n",
    "s.head()"
   ]
  },
  {
   "cell_type": "code",
   "execution_count": 18,
   "metadata": {},
   "outputs": [],
   "source": [
    "new_col_list = ['members_id', 'counts' ]\n",
    "for n,col in enumerate(new_col_list):\n",
    "    s[col] = s['member_id'].apply(lambda x: x[n])\n",
    "    \n",
    "s = s.drop('member_id',axis=1)"
   ]
  },
  {
   "cell_type": "code",
   "execution_count": 19,
   "metadata": {},
   "outputs": [],
   "source": [
    "s = s[s['counts'].apply(len) > 0]"
   ]
  },
  {
   "cell_type": "code",
   "execution_count": 20,
   "metadata": {},
   "outputs": [],
   "source": [
    "s['max_count'] = s['counts'].apply(lambda x: max(x))\n",
    "s = s[s['max_count'] > 8]\n",
    "s = s.drop('counts',axis=1)"
   ]
  },
  {
   "cell_type": "code",
   "execution_count": 21,
   "metadata": {},
   "outputs": [
    {
     "name": "stdout",
     "output_type": "stream",
     "text": [
      "Total number of Ids that are flagged: 11696\n"
     ]
    },
    {
     "data": {
      "text/html": [
       "<div>\n",
       "<style scoped>\n",
       "    .dataframe tbody tr th:only-of-type {\n",
       "        vertical-align: middle;\n",
       "    }\n",
       "\n",
       "    .dataframe tbody tr th {\n",
       "        vertical-align: top;\n",
       "    }\n",
       "\n",
       "    .dataframe thead th {\n",
       "        text-align: right;\n",
       "    }\n",
       "</style>\n",
       "<table border=\"1\" class=\"dataframe\">\n",
       "  <thead>\n",
       "    <tr style=\"text-align: right;\">\n",
       "      <th></th>\n",
       "      <th>members_id</th>\n",
       "      <th>max_count</th>\n",
       "    </tr>\n",
       "  </thead>\n",
       "  <tbody>\n",
       "    <tr>\n",
       "      <th>36459</th>\n",
       "      <td>14294</td>\n",
       "      <td>23</td>\n",
       "    </tr>\n",
       "    <tr>\n",
       "      <th>9300</th>\n",
       "      <td>3488</td>\n",
       "      <td>23</td>\n",
       "    </tr>\n",
       "    <tr>\n",
       "      <th>9295</th>\n",
       "      <td>3488</td>\n",
       "      <td>23</td>\n",
       "    </tr>\n",
       "    <tr>\n",
       "      <th>9296</th>\n",
       "      <td>3488</td>\n",
       "      <td>23</td>\n",
       "    </tr>\n",
       "    <tr>\n",
       "      <th>9289</th>\n",
       "      <td>3488</td>\n",
       "      <td>23</td>\n",
       "    </tr>\n",
       "  </tbody>\n",
       "</table>\n",
       "</div>"
      ],
      "text/plain": [
       "       members_id  max_count\n",
       "36459       14294         23\n",
       "9300         3488         23\n",
       "9295         3488         23\n",
       "9296         3488         23\n",
       "9289         3488         23"
      ]
     },
     "execution_count": 21,
     "metadata": {},
     "output_type": "execute_result"
    }
   ],
   "source": [
    "s = s.sort_values('max_count', ascending = False)\n",
    "print(\"Total number of Ids that are flagged: {}\".format(len(s)))\n",
    "s.head()"
   ]
  },
  {
   "cell_type": "code",
   "execution_count": null,
   "metadata": {},
   "outputs": [],
   "source": []
  }
 ],
 "metadata": {
  "kernelspec": {
   "display_name": "Python 3.7.7 64-bit",
   "language": "python",
   "name": "python37764bitb975b354362e4a129cc326be66de4715"
  },
  "language_info": {
   "codemirror_mode": {
    "name": "ipython",
    "version": 3
   },
   "file_extension": ".py",
   "mimetype": "text/x-python",
   "name": "python",
   "nbconvert_exporter": "python",
   "pygments_lexer": "ipython3",
   "version": "3.7.7"
  }
 },
 "nbformat": 4,
 "nbformat_minor": 2
}
